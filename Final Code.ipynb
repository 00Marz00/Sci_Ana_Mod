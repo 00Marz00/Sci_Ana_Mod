{
 "cells": [
  {
   "cell_type": "code",
   "execution_count": 8,
   "id": "f54c8670",
   "metadata": {},
   "outputs": [
    {
     "name": "stdout",
     "output_type": "stream",
     "text": [
      "T value is: 88761.6\n",
      "Altitude is:  1.71E+07 m\n"
     ]
    }
   ],
   "source": [
    "#Geosynchronous\n",
    "import numpy as np\n",
    "X=float(input(\"T value is: \"))\n",
    "T=X\n",
    "G=6.67E-11 #(m^3)/kgs^2\n",
    "M=6.417E23 #kg\n",
    "R=3.39E6 #m\n",
    "\n",
    "eq1=G*M*(T**2)\n",
    "eq2=4*(np.pi**2)\n",
    "eq3=(eq1/eq2)**(1/3)\n",
    "h=eq3-R\n",
    "print (\"Altitude is: \",f\"{h:.2E}\",\"m\")"
   ]
  },
  {
   "cell_type": "code",
   "execution_count": 12,
   "id": "40af2e5e",
   "metadata": {},
   "outputs": [
    {
     "name": "stdout",
     "output_type": "stream",
     "text": [
      "T value is: 88642.8\n",
      "Altitude is:  1.70E+07 m\n"
     ]
    }
   ],
   "source": [
    "#Siderial \n",
    "import numpy as np\n",
    "X=float(input(\"T value is: \"))\n",
    "T=X\n",
    "G=6.67E-11 #(m^3)/kgs^2\n",
    "M=6.417E23 #kg\n",
    "R=3.39E6 #m\n",
    "\n",
    "eq1=G*M*(T**2)\n",
    "eq2=4*(np.pi**2)\n",
    "eq3=(eq1/eq2)**(1/3)\n",
    "h=eq3-R\n",
    "print (\"Altitude is: \",f\"{h:.2E}\",\"m\")"
   ]
  },
  {
   "cell_type": "code",
   "execution_count": 9,
   "id": "6ea24ad6",
   "metadata": {},
   "outputs": [
    {
     "name": "stdout",
     "output_type": "stream",
     "text": [
      "T value is: 18000\n",
      "Altitude is:  3.67E+06 m\n"
     ]
    }
   ],
   "source": [
    "#T = 18000 sec\n",
    "import numpy as np\n",
    "X=float(input(\"T value is: \"))\n",
    "T=X\n",
    "G=6.67E-11 #(m^3)/kgs^2\n",
    "M=6.417E23 #kg\n",
    "R=3.39E6 #m\n",
    "\n",
    "eq1=G*M*(T**2)\n",
    "eq2=4*(np.pi**2)\n",
    "eq3=(eq1/eq2)**(1/3)\n",
    "h=eq3-R\n",
    "print (\"Altitude is: \",f\"{h:.2E}\",\"m\")"
   ]
  },
  {
   "cell_type": "code",
   "execution_count": 10,
   "id": "8f342712",
   "metadata": {},
   "outputs": [
    {
     "name": "stdout",
     "output_type": "stream",
     "text": [
      "T value is: 5400\n",
      "Altitude is:  -2.28E+05 m\n"
     ]
    }
   ],
   "source": [
    "#T = 5400 sec\n",
    "import numpy as np\n",
    "X=float(input(\"T value is: \"))\n",
    "T=X\n",
    "G=6.67E-11 #(m^3)/kgs^2\n",
    "M=6.417E23 #kg\n",
    "R=3.39E6 #m\n",
    "\n",
    "eq1=G*M*(T**2)\n",
    "eq2=4*(np.pi**2)\n",
    "eq3=(eq1/eq2)**(1/3)\n",
    "h=eq3-R\n",
    "print (\"Altitude is: \",f\"{h:.2E}\",\"m\")"
   ]
  },
  {
   "cell_type": "code",
   "execution_count": 11,
   "id": "5536e720",
   "metadata": {},
   "outputs": [
    {
     "name": "stdout",
     "output_type": "stream",
     "text": [
      "T value is: 1800\n",
      "Altitude is:  -1.87E+06 m\n"
     ]
    }
   ],
   "source": [
    "#T = 1800 sec\n",
    "import numpy as np\n",
    "X=float(input(\"T value is: \"))\n",
    "T=X\n",
    "G=6.67E-11 #(m^3)/kgs^2\n",
    "M=6.417E23 #kg\n",
    "R=3.39E6 #m\n",
    "\n",
    "eq1=G*M*(T**2)\n",
    "eq2=4*(np.pi**2)\n",
    "eq3=(eq1/eq2)**(1/3)\n",
    "h=eq3-R\n",
    "print (\"Altitude is: \",f\"{h:.2E}\",\"m\")"
   ]
  },
  {
   "cell_type": "code",
   "execution_count": 13,
   "id": "cfc2606c",
   "metadata": {},
   "outputs": [
    {
     "data": {
      "image/png": "[encoded data removed]",
      "text/plain": [
       "<Figure size 432x288 with 1 Axes>"
      ]
     },
     "metadata": {
      "needs_background": "light"
     },
     "output_type": "display_data"
    }
   ],
   "source": [
    "import matplotlib.pyplot as plt\n",
    "x=[88761.6,88642.8,18000,5400,1800]\n",
    "y=[1.71E+07,1.70E+07,3.67E+06,-2.28E+05,-1.87E+06]\n",
    "plt.plot(x, y)\n",
    "plt.xlabel('T (s)')\n",
    "plt.ylabel('h (m)')\n",
    "plt.title('Orbital Period vs Altitude')\n",
    "plt.show()"
   ]
  },
  {
   "cell_type": "code",
   "execution_count": null,
   "id": "c81f475a",
   "metadata": {},
   "outputs": [],
   "source": []
  }
 ],
 "metadata": {
  "kernelspec": {
   "display_name": "Python 3",
   "language": "python",
   "name": "python3"
  },
  "language_info": {
   "codemirror_mode": {
    "name": "ipython",
    "version": 3
   },
   "file_extension": ".py",
   "mimetype": "text/x-python",
   "name": "python",
   "nbconvert_exporter": "python",
   "pygments_lexer": "ipython3",
   "version": "3.8.8"
  }
 },
 "nbformat": 4,
 "nbformat_minor": 5
}
