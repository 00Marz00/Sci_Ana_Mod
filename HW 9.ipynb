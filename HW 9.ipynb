{
 "cells": [
  {
   "cell_type": "code",
   "execution_count": 22,
   "id": "152a830b",
   "metadata": {},
   "outputs": [
    {
     "name": "stdout",
     "output_type": "stream",
     "text": [
      "staying = 33.22778547397586 %\n",
      "switching = 65.82457558609539 %\n"
     ]
    }
   ],
   "source": [
    "#lets make a deal.\n",
    "import random\n",
    "import numpy as np\n",
    "\n",
    "nruns=10001  #times game will be played\n",
    "stayw=0\n",
    "switchw=0\n",
    "stayl=0\n",
    "switchl=0 \n",
    "stay=0\n",
    "switch=0\n",
    "\n",
    "for i in range(nruns):\n",
    "    doors = [1,2,3] #number of doors to choose from \n",
    "    prize = np.random.choice(doors) #prize \n",
    "    pick1 = np.random.choice(doors) #player picks door\n",
    "\n",
    "    doors.remove(prize) #keeps prize door \n",
    "    \n",
    "    if pick1 != prize: \n",
    "        doors.remove(pick1) #remove the door that was picked\n",
    "\n",
    "    show = random.choice(doors)\n",
    "    \n",
    "    if (random.random() > 0.5): #switch time\n",
    "        doors = [1,2,3]\n",
    "        doors.remove(show) #take away 1 door\n",
    "        doors.remove(pick1) #take away 1 door\n",
    "        pick2 = doors[0] #player picks\n",
    "        if (pick2 == prize):\n",
    "            switchw+= 1\n",
    "            switch +=1\n",
    "        else:\n",
    "            switchl+= 1\n",
    "            switch += 1\n",
    "    else:\n",
    "        if pick1 == prize:\n",
    "            stayw+=1\n",
    "            stay+=1\n",
    "        else:\n",
    "            stayl+=1\n",
    "            stay+=1\n",
    "\n",
    "#percent for switch & stay.\n",
    "per_stay = (((stayw)/stay)*100) #percent of staying \n",
    "per_switch = (((switchw)/(switch))*100)  #percent of switching \n",
    "\n",
    "print(\"staying =\", per_stay, \"%\")\n",
    "print(\"switching =\", per_switch, \"%\")"
   ]
  },
  {
   "cell_type": "code",
   "execution_count": 34,
   "id": "43c2d5a9",
   "metadata": {},
   "outputs": [],
   "source": [
    "#Atom Decay\n",
    "import numpy as np\n",
    "import random\n",
    "import matplotlib.mlab as mlab\n",
    "import matplotlib.pyplot as plt\n",
    "\n",
    "Bi=10000   # Starting amount\n",
    "Tl=0       \n",
    "Pb=0      \n",
    "Bis=0\n",
    "tmax=20000   #total time in (s)\n",
    "h=1.0        #time step (s)\n",
    "\n",
    "pdBi = 1 - 2**(-h/(46*60))  #probability of decaying \n",
    "pdTl = 1 - 2**(-h/(2.2*60))\n",
    "pdPb = 1 - 2**(-h/(3.3*60))\n",
    "\n",
    "time = np.arange(0.0,tmax,h) #empty arrays \n",
    "Bi_num = []\n",
    "Tl_num = []\n",
    "Pb_num = []\n",
    "Bis_num = []\n",
    "\n",
    "for t in tpoints: \n",
    "    Bi_num.append(Bi)\n",
    "    Tl_num.append(Tl)\n",
    "    Pb_num.append(Pb)\n",
    "    Bis_num.append(Bis)\n",
    "    \n",
    "    decay = 0   #number of decayed atoms\n",
    "    decayTl = 0\n",
    "    decayPb = 0 \n",
    "    decayBi = 0\n",
    "    \n",
    "    for a in range(Pb):\n",
    "        if (random.random() < pdPb):\n",
    "            decayBi += 1\n",
    "    Pb -= decayBi\n",
    "    Bis += decayBi\n",
    "    \n",
    "    for b in range(Tl):\n",
    "        if (random.random() < pdTl):\n",
    "            decayTh += 1\n",
    "    Tl -= decayTl\n",
    "    Pb += decayPb\n",
    "    \n",
    "    for c in range(Bi):\n",
    "        if (random.random() < pdBi):\n",
    "            decay +=1\n",
    "            if (random.random() < 0.9791):\n",
    "                decayPb += 1\n",
    "            else:\n",
    "                decayTl += 1\n",
    "    Bi -= decay\n",
    "    Tl += decayTl\n",
    "    Pb += decayPb"
   ]
  },
  {
   "cell_type": "code",
   "execution_count": 37,
   "id": "33f1aa6c",
   "metadata": {},
   "outputs": [
    {
     "data": {
      "image/png": "[encoded data removed]",
      "text/plain": [
       "<Figure size 432x288 with 1 Axes>"
      ]
     },
     "metadata": {
      "needs_background": "light"
     },
     "output_type": "display_data"
    }
   ],
   "source": [
    "#plot graph of Atom decay    \n",
    "fig = plt.figure()\n",
    "ax =fig.add_subplot(111)\n",
    "\n",
    "#items being plotted \n",
    "ax.scatter(time,Bi_num, s=5, c='k', alpha=0.3)\n",
    "ax.scatter(time,Tl_num, s=5, c='r', alpha=0.3)\n",
    "ax.scatter(time,Pb_num, s=5, c='y', alpha=0.3)\n",
    "ax.scatter(time,Bis_num, s=5, c='b', alpha=0.3)\n",
    "\n",
    "#lable axis\n",
    "ax.set_xlabel(\"Time (s)\", size=10)\n",
    "ax.set_ylabel(\"number of Atoms\", size=10)\n",
    "\n",
    "#scale\n",
    "ax.xaxis.set_tick_params(labelsize=10)\n",
    "ax.yaxis.set_tick_params(labelsize=10)"
   ]
  },
  {
   "cell_type": "code",
   "execution_count": null,
   "id": "31891cec",
   "metadata": {},
   "outputs": [],
   "source": []
  }
 ],
 "metadata": {
  "kernelspec": {
   "display_name": "Python 3",
   "language": "python",
   "name": "python3"
  },
  "language_info": {
   "codemirror_mode": {
    "name": "ipython",
    "version": 3
   },
   "file_extension": ".py",
   "mimetype": "text/x-python",
   "name": "python",
   "nbconvert_exporter": "python",
   "pygments_lexer": "ipython3",
   "version": "3.8.8"
  }
 },
 "nbformat": 4,
 "nbformat_minor": 5
}
