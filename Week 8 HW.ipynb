{
 "cells": [
  {
   "cell_type": "code",
   "execution_count": 10,
   "id": "f6c0b191",
   "metadata": {},
   "outputs": [
    {
     "name": "stdout",
     "output_type": "stream",
     "text": [
      "-999999.999999 -9.999894245993346e-07\n"
     ]
    }
   ],
   "source": [
    "#quadratic equation (a).\n",
    "import numpy as np\n",
    "a=.001\n",
    "b=1000\n",
    "c=.001\n",
    "d=(b**2)-(4*a*c)\n",
    "sol1=(((-b)-(np.sqrt(d)))/(2*a))\n",
    "sol2=(((-b)+(np.sqrt(d)))/(2*a))\n",
    "\n",
    "print (sol1,sol2)\n"
   ]
  },
  {
   "cell_type": "code",
   "execution_count": 5,
   "id": "e474d235",
   "metadata": {},
   "outputs": [
    {
     "name": "stdout",
     "output_type": "stream",
     "text": [
      "-1.000000000001e-06 -1000010.5755125057\n",
      "It would seem there is a rounding error based on the limitations of the system. The correct answers from each formula can be used to make a 'alwasys correct' formula.\n"
     ]
    }
   ],
   "source": [
    "#quadratic equation (b).\n",
    "import numpy as np\n",
    "a=.001\n",
    "b=1000\n",
    "c=.001\n",
    "d=(b**2)-(4*a*c)\n",
    "inv1=(2*c)/((-b)-(np.sqrt(d)))\n",
    "inv2=(2*c)/((-b)+(np.sqrt(d)))\n",
    "\n",
    "print (inv1, inv2)\n",
    "\n",
    "print (\"It would seem there is a rounding error based on the limitations of the system. The correct answers from each formula can be used to make a 'alwasys correct' formula.\")"
   ]
  },
  {
   "cell_type": "code",
   "execution_count": 4,
   "id": "15d6a1db",
   "metadata": {},
   "outputs": [
    {
     "name": "stdout",
     "output_type": "stream",
     "text": [
      "-1.000000000001e-06 -999999.999999\n"
     ]
    }
   ],
   "source": [
    "#quadratic equation (c).\n",
    "import numpy as np\n",
    "a=.001\n",
    "b=1000\n",
    "c=.001 \n",
    "d=(b**2)-(4*a*c)\n",
    "csol1=(2*c)/(-b-(np.sqrt(d)))\n",
    "csol2=(((-b)-(np.sqrt(d)))/(2*a))\n",
    "\n",
    "print (csol1, csol2)"
   ]
  },
  {
   "cell_type": "code",
   "execution_count": 6,
   "id": "c866fc5d",
   "metadata": {},
   "outputs": [
    {
     "name": "stdout",
     "output_type": "stream",
     "text": [
      "4.50656\n"
     ]
    }
   ],
   "source": [
    "#Trapezoid Rule\n",
    "def f(x):\n",
    "    return x**4-2*x+1\n",
    "N=10\n",
    "a=0.0\n",
    "b=2.0\n",
    "h=(b-a)/N\n",
    "\n",
    "s=0.5*f(a)+0.5*f(b)\n",
    "for k in range(1,N):\n",
    "    s += f(a+k*h)\n",
    "print (h*s)\n"
   ]
  },
  {
   "cell_type": "code",
   "execution_count": 7,
   "id": "e809c019",
   "metadata": {},
   "outputs": [
    {
     "name": "stdout",
     "output_type": "stream",
     "text": [
      "4.400426666666667\n"
     ]
    }
   ],
   "source": [
    "#Simpson's Rule\n",
    "def f(x):\n",
    "    return (x**4)-2*x+1\n",
    "N=10\n",
    "a=0.0\n",
    "b=2.0\n",
    "h=(b-a)/N\n",
    "\n",
    "sum1=0.0\n",
    "sum2=0.0\n",
    "for k in range(1,N,2):\n",
    "    sum1 += f(a+(k*h))\n",
    "for k in range(2,N-1,2):\n",
    "    sum2 += f(a+(k*h))\n",
    "    \n",
    "print ((h/3)*((f(a)+f(b))+(4*sum1)+(2*sum2)))\n"
   ]
  },
  {
   "cell_type": "code",
   "execution_count": 12,
   "id": "132e87b9",
   "metadata": {},
   "outputs": [
    {
     "name": "stdout",
     "output_type": "stream",
     "text": [
      "4.400000042666668\n"
     ]
    }
   ],
   "source": [
    "#Simpson's Rule\n",
    "def f(x):\n",
    "    return (x**4)-2*x+1\n",
    "N=100\n",
    "a=0.0\n",
    "b=2.0\n",
    "h=(b-a)/N\n",
    "\n",
    "sum1=0.0\n",
    "sum2=0.0\n",
    "for k in range(1,N//2+1):\n",
    "    sum1 += f(a+((2*k-1)*h))\n",
    "for u in range(1,N//2):\n",
    "    sum2 += f(a+(2*u*h))\n",
    "    \n",
    "print ((h/3)*((f(a)+f(b))+(4*sum1)+(2*sum2)))"
   ]
  },
  {
   "cell_type": "code",
   "execution_count": 8,
   "id": "2ff79c6c",
   "metadata": {},
   "outputs": [],
   "source": [
    "#heat capacity of a solid (a)\n",
    "import numpy as np\n",
    "from matplotlib import pyplot as plt\n",
    "p=6.022*10**(28)  #density (m**-3)\n",
    "O=428             #Debye Temp in (K)\n",
    "kB=1.38*10**(-23) #Boltzmann's Constant (J*K)\n",
    "V=0.001            #Volume in meters cubed\n",
    "a=[]              #empty array for T\n",
    "b=[]              #empty array for cv(T)\n",
    "def cv(T):\n",
    "    def f(x): \n",
    "        return((x**4*np.e**x)/((np.e**x-1)**2))\n",
    "    N=1001\n",
    "    a=0.0 \n",
    "    b=(O/T)\n",
    "    h=(b-a)/N\n",
    "    s=0.5*f(b)\n",
    "    for k in range (1,N):\n",
    "        s += f(a + k*h)\n",
    "    return 9*V*p*kB*((T/O)**3)*(h*s)\n",
    "for T in range (5,501):\n",
    "    a.append(T)\n",
    "    b.append(cv(T))\n"
   ]
  },
  {
   "cell_type": "code",
   "execution_count": 9,
   "id": "98e33ee7",
   "metadata": {},
   "outputs": [
    {
     "data": {
      "image/png": "[encoded data removed]",
      "text/plain": [
       "<Figure size 432x288 with 1 Axes>"
      ]
     },
     "metadata": {
      "needs_background": "light"
     },
     "output_type": "display_data"
    }
   ],
   "source": [
    "#graph of heat capacity (b)\n",
    "fig = plt.figure()\n",
    "ax = fig.add_subplot(111)\n",
    "ax.scatter(a,b,s=5,c='b',alpha=0.3)\n",
    "\n",
    "ax.set_xlabel(\"${Temperature}$ $(K)$\",size=10)\n",
    "ax.set_ylabel(\"${Heat_Capacity}$ $(J/K)$\",size=10)      \n",
    "\n",
    "ax.xaxis.set_tick_params(labelsize=10)\n",
    "ax.yaxis.set_tick_params(labelsize=10)"
   ]
  },
  {
   "cell_type": "code",
   "execution_count": null,
   "id": "6c5856d9",
   "metadata": {},
   "outputs": [],
   "source": []
  }
 ],
 "metadata": {
  "kernelspec": {
   "display_name": "Python 3",
   "language": "python",
   "name": "python3"
  },
  "language_info": {
   "codemirror_mode": {
    "name": "ipython",
    "version": 3
   },
   "file_extension": ".py",
   "mimetype": "text/x-python",
   "name": "python",
   "nbconvert_exporter": "python",
   "pygments_lexer": "ipython3",
   "version": "3.8.8"
  }
 },
 "nbformat": 4,
 "nbformat_minor": 5
}
